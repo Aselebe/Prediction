{
  "nbformat": 4,
  "nbformat_minor": 0,
  "metadata": {
    "colab": {
      "provenance": [],
      "gpuType": "T4",
      "include_colab_link": true
    },
    "kernelspec": {
      "name": "python3",
      "display_name": "Python 3"
    },
    "language_info": {
      "name": "python"
    },
    "accelerator": "GPU",
    "gpuClass": "standard"
  },
  "cells": [
    {
      "cell_type": "markdown",
      "metadata": {
        "id": "view-in-github",
        "colab_type": "text"
      },
      "source": [
        "<a href=\"https://colab.research.google.com/github/Aselebe/Prediction/blob/main/Data_Handling_and_Processing_with_PySpark_.ipynb\" target=\"_parent\"><img src=\"https://colab.research.google.com/assets/colab-badge.svg\" alt=\"Open In Colab\"/></a>"
      ]
    },
    {
      "cell_type": "markdown",
      "source": [
        " Data Handling and Processing with PySpark\n",
        "\n",
        "In this assignment, you will be analysing the popularity of films and TV shows on the streaming platform, Netflix. Using your knowledge of PySpark DataFrames and Spark SQL, you will produce a number of \"downstream\" data products to analyse trends in global streaming habits.\n",
        "\n",
        "Download the dataset from this [Kaggle](https://www.kaggle.com/dhruvildave/netflix-top-10-tv-shows-and-films) page. A copy of the `all_weeks_countries.csv` file is also available on the canvas page for this assignment.\n",
        "\n",
        "Your task is to load in the data and produce a number of \"downstream\" data products and plots as described below.\n",
        "\n",
        "The PySpark installation and setup is provided below for conveinience."
      ],
      "metadata": {
        "id": "ViQdeQ5m1E2Z"
      }
    },
    {
      "cell_type": "code",
      "execution_count": null,
      "metadata": {
        "id": "5lb-Z7ZM8O3s"
      },
      "outputs": [],
      "source": [
        "# Apache Spark uses Java, so first we must install that\n",
        "!apt-get install openjdk-8-jdk-headless -qq > /dev/null"
      ]
    },
    {
      "cell_type": "code",
      "source": [
        "# Mount Google Drive and unpack Spark\n",
        "from google.colab import drive\n",
        "drive.mount('/content/drive')"
      ],
      "metadata": {
        "id": "ixa72o938SKP",
        "colab": {
          "base_uri": "https://localhost:8080/"
        },
        "outputId": "6de54697-d27d-4d51-c0ec-ce7b98e6920b"
      },
      "execution_count": null,
      "outputs": [
        {
          "output_type": "stream",
          "name": "stdout",
          "text": [
            "Drive already mounted at /content/drive; to attempt to forcibly remount, call drive.mount(\"/content/drive\", force_remount=True).\n"
          ]
        }
      ]
    },
    {
      "cell_type": "code",
      "source": [
        "!tar xzf /content/drive/MyDrive/spark-3.3.0-bin-hadoop3.tgz.tgz"
      ],
      "metadata": {
        "id": "zh11IwgG0b6q"
      },
      "execution_count": null,
      "outputs": []
    },
    {
      "cell_type": "code",
      "source": [
        "# Set up environment variables\n",
        "import os\n",
        "os.environ[\"JAVA_HOME\"] = \"/usr/lib/jvm/java-8-openjdk-amd64\"\n",
        "os.environ[\"SPARK_HOME\"] = \"/content/spark-3.3.0-bin-hadoop3\""
      ],
      "metadata": {
        "id": "yWT7_XiQ8V6u"
      },
      "execution_count": null,
      "outputs": []
    },
    {
      "cell_type": "code",
      "source": [
        "# Install findspark, which helps python locate the psyspark module files\n",
        "!pip install -q findspark\n",
        "import findspark\n",
        "findspark.init()"
      ],
      "metadata": {
        "id": "UPSvq-aj8Z_k"
      },
      "execution_count": null,
      "outputs": []
    },
    {
      "cell_type": "code",
      "source": [
        "# Finally, we initialse a \"SparkSession\", which handles the computations\n",
        "from pyspark.sql import SparkSession\n",
        "spark = SparkSession.builder\\\n",
        "        .master(\"local\")\\\n",
        "        .appName(\"Colab\")\\\n",
        "        .config('spark.ui.port', '4050')\\\n",
        "        .getOrCreate()"
      ],
      "metadata": {
        "id": "kXT8Q_IO8cVe"
      },
      "execution_count": null,
      "outputs": []
    },
    {
      "cell_type": "code",
      "source": [],
      "metadata": {
        "id": "ttegyOfWMkjb"
      },
      "execution_count": null,
      "outputs": []
    },
    {
      "cell_type": "markdown",
      "source": [
        "\n",
        "\n",
        "1.   Load the `all_weeks_countries.csv` into your Colab Notebook as a DataFrame.\n",
        "2.   Create two separate DataFrames for Films and TV.\n",
        "3.   For the Films data, drop the column containing the season names.\n",
        "4.   For the TV data, replace any null values in the season name column with the show name."
      ],
      "metadata": {
        "id": "yfW6RnY_GZpE"
      }
    },
    {
      "cell_type": "code",
      "source": [
        "# pyspark.sql.functions countains all the transformations and actions you will\n",
        "# need\n",
        "from pyspark.sql import functions as F"
      ],
      "metadata": {
        "id": "adZdlbyGL7Mj"
      },
      "execution_count": null,
      "outputs": []
    },
    {
      "cell_type": "code",
      "source": [
        "### Load the all_weeks_countries.csv into your Colab Notebook as a DataFrame.\n",
        "usersCsvPath = \"/content/drive/MyDrive/all-weeks-countries.csv\"\n",
        "\n",
        "all_weeks_countries = (spark\n",
        "             .read\n",
        "             .option('header', True)\n",
        "             .option('inferSchema', True)\n",
        "             .csv(usersCsvPath))"
      ],
      "metadata": {
        "id": "I7PS8iZgqwjt"
      },
      "execution_count": null,
      "outputs": []
    },
    {
      "cell_type": "code",
      "source": [
        "### Display the table and its schema\n",
        "\n",
        "# Displaying table\n",
        "all_weeks_countries.show()\n",
        "\n",
        "# Displaying the schema\n",
        "all_weeks_countries.printSchema()\n"
      ],
      "metadata": {
        "id": "aOKWP2lgu7p4",
        "colab": {
          "base_uri": "https://localhost:8080/"
        },
        "outputId": "14c40a1d-5c2f-48c5-cf55-96e0a6992800"
      },
      "execution_count": null,
      "outputs": [
        {
          "output_type": "stream",
          "name": "stdout",
          "text": [
            "+------------+------------+-------------------+--------+-----------+--------------------+--------------------+--------------------------+\n",
            "|country_name|country_iso2|               week|category|weekly_rank|          show_title|        season_title|cumulative_weeks_in_top_10|\n",
            "+------------+------------+-------------------+--------+-----------+--------------------+--------------------+--------------------------+\n",
            "|   Argentina|          AR|2022-08-21 00:00:00|   Films|          1|      Look Both Ways|                null|                         1|\n",
            "|   Argentina|          AR|2022-08-21 00:00:00|   Films|          2|           Day Shift|                null|                         2|\n",
            "|   Argentina|          AR|2022-08-21 00:00:00|   Films|          3|Bank Robbers: The...|                null|                         2|\n",
            "|   Argentina|          AR|2022-08-21 00:00:00|   Films|          4|   The Next 365 Days|                null|                         1|\n",
            "|   Argentina|          AR|2022-08-21 00:00:00|   Films|          5|The Angry Birds M...|                null|                         1|\n",
            "|   Argentina|          AR|2022-08-21 00:00:00|   Films|          6|       Purple Hearts|                null|                         4|\n",
            "|   Argentina|          AR|2022-08-21 00:00:00|   Films|          7|      River Runs Red|                null|                         1|\n",
            "|   Argentina|          AR|2022-08-21 00:00:00|   Films|          8|                1917|                null|                         2|\n",
            "|   Argentina|          AR|2022-08-21 00:00:00|   Films|          9|  Code Name: Emperor|                null|                         2|\n",
            "|   Argentina|          AR|2022-08-21 00:00:00|   Films|         10|           Royalteen|                null|                         1|\n",
            "|   Argentina|          AR|2022-08-21 00:00:00|      TV|          1| Pasión de Gavilanes|Pasión de Gavilan...|                         5|\n",
            "|   Argentina|          AR|2022-08-21 00:00:00|      TV|          2|        Another Self|Another Self: Sea...|                         4|\n",
            "|   Argentina|          AR|2022-08-21 00:00:00|      TV|          3| Pasión de Gavilanes|Pasión de Gavilan...|                        58|\n",
            "|   Argentina|          AR|2022-08-21 00:00:00|      TV|          4|            Manifest|  Manifest: Season 1|                         6|\n",
            "|   Argentina|          AR|2022-08-21 00:00:00|      TV|          5|         The Sandman|The Sandman: Seas...|                         3|\n",
            "|   Argentina|          AR|2022-08-21 00:00:00|      TV|          6|Extraordinary Att...|Extraordinary Att...|                         2|\n",
            "|   Argentina|          AR|2022-08-21 00:00:00|      TV|          7|           High Heat| High Heat: Season 1|                         1|\n",
            "|   Argentina|          AR|2022-08-21 00:00:00|      TV|          8|            Manifest|  Manifest: Season 2|                         5|\n",
            "|   Argentina|          AR|2022-08-21 00:00:00|      TV|          9|            Manifest|  Manifest: Season 3|                         4|\n",
            "|   Argentina|          AR|2022-08-21 00:00:00|      TV|         10|   Never Have I Ever|Never Have I Ever...|                         2|\n",
            "+------------+------------+-------------------+--------+-----------+--------------------+--------------------+--------------------------+\n",
            "only showing top 20 rows\n",
            "\n",
            "root\n",
            " |-- country_name: string (nullable = true)\n",
            " |-- country_iso2: string (nullable = true)\n",
            " |-- week: timestamp (nullable = true)\n",
            " |-- category: string (nullable = true)\n",
            " |-- weekly_rank: integer (nullable = true)\n",
            " |-- show_title: string (nullable = true)\n",
            " |-- season_title: string (nullable = true)\n",
            " |-- cumulative_weeks_in_top_10: integer (nullable = true)\n",
            "\n"
          ]
        }
      ]
    },
    {
      "cell_type": "code",
      "source": [
        "### Seperate the data into two DataFrames for Films and TV\n",
        "\n",
        "from pyspark.sql.functions import col, coalesce, isnull, count\n",
        "\n",
        "# Filter the data for films\n",
        "filmsDF = all_weeks_countries.filter(all_weeks_countries.category == 'Films')\n",
        "\n",
        "# Filter the data for TV\n",
        "tvDF = all_weeks_countries.filter(all_weeks_countries.category == 'TV')"
      ],
      "metadata": {
        "id": "O0SB_TfWfrIH"
      },
      "execution_count": null,
      "outputs": []
    },
    {
      "cell_type": "code",
      "source": [
        "filmsDF.show()"
      ],
      "metadata": {
        "colab": {
          "base_uri": "https://localhost:8080/"
        },
        "id": "wnC8xF2FT5uc",
        "outputId": "a13604a2-9620-4efb-eb5c-daec2db11faf"
      },
      "execution_count": null,
      "outputs": [
        {
          "output_type": "stream",
          "name": "stdout",
          "text": [
            "+------------+------------+-------------------+--------+-----------+--------------------+------------+--------------------------+\n",
            "|country_name|country_iso2|               week|category|weekly_rank|          show_title|season_title|cumulative_weeks_in_top_10|\n",
            "+------------+------------+-------------------+--------+-----------+--------------------+------------+--------------------------+\n",
            "|   Argentina|          AR|2022-08-21 00:00:00|   Films|          1|      Look Both Ways|        null|                         1|\n",
            "|   Argentina|          AR|2022-08-21 00:00:00|   Films|          2|           Day Shift|        null|                         2|\n",
            "|   Argentina|          AR|2022-08-21 00:00:00|   Films|          3|Bank Robbers: The...|        null|                         2|\n",
            "|   Argentina|          AR|2022-08-21 00:00:00|   Films|          4|   The Next 365 Days|        null|                         1|\n",
            "|   Argentina|          AR|2022-08-21 00:00:00|   Films|          5|The Angry Birds M...|        null|                         1|\n",
            "|   Argentina|          AR|2022-08-21 00:00:00|   Films|          6|       Purple Hearts|        null|                         4|\n",
            "|   Argentina|          AR|2022-08-21 00:00:00|   Films|          7|      River Runs Red|        null|                         1|\n",
            "|   Argentina|          AR|2022-08-21 00:00:00|   Films|          8|                1917|        null|                         2|\n",
            "|   Argentina|          AR|2022-08-21 00:00:00|   Films|          9|  Code Name: Emperor|        null|                         2|\n",
            "|   Argentina|          AR|2022-08-21 00:00:00|   Films|         10|           Royalteen|        null|                         1|\n",
            "|   Argentina|          AR|2022-08-14 00:00:00|   Films|          1|Bank Robbers: The...|        null|                         1|\n",
            "|   Argentina|          AR|2022-08-14 00:00:00|   Films|          2|       Purple Hearts|        null|                         3|\n",
            "|   Argentina|          AR|2022-08-14 00:00:00|   Films|          3|                1917|        null|                         1|\n",
            "|   Argentina|          AR|2022-08-14 00:00:00|   Films|          4|           Day Shift|        null|                         1|\n",
            "|   Argentina|          AR|2022-08-14 00:00:00|   Films|          5|  Code Name: Emperor|        null|                         1|\n",
            "|   Argentina|          AR|2022-08-14 00:00:00|   Films|          6|              Carter|        null|                         2|\n",
            "|   Argentina|          AR|2022-08-14 00:00:00|   Films|          7|          Recurrence|        null|                         3|\n",
            "|   Argentina|          AR|2022-08-14 00:00:00|   Films|          8|      Wedding Season|        null|                         2|\n",
            "|   Argentina|          AR|2022-08-14 00:00:00|   Films|          9|        Dreamkatcher|        null|                         1|\n",
            "|   Argentina|          AR|2022-08-14 00:00:00|   Films|         10|        The Gray Man|        null|                         4|\n",
            "+------------+------------+-------------------+--------+-----------+--------------------+------------+--------------------------+\n",
            "only showing top 20 rows\n",
            "\n"
          ]
        }
      ]
    },
    {
      "cell_type": "code",
      "source": [
        "### Drop the 'season_title' column from the Films DataFrame, display the table\n",
        "\n",
        "\n",
        "filmsDF = filmsDF.drop(\"season_title\")\n",
        "filmsDF.show()\n"
      ],
      "metadata": {
        "id": "L6LsKVYSfvAt",
        "colab": {
          "base_uri": "https://localhost:8080/"
        },
        "outputId": "efdab4cb-c196-4474-a0be-70f995417ad7"
      },
      "execution_count": null,
      "outputs": [
        {
          "output_type": "stream",
          "name": "stdout",
          "text": [
            "+------------+------------+-------------------+--------+-----------+--------------------+--------------------------+\n",
            "|country_name|country_iso2|               week|category|weekly_rank|          show_title|cumulative_weeks_in_top_10|\n",
            "+------------+------------+-------------------+--------+-----------+--------------------+--------------------------+\n",
            "|   Argentina|          AR|2022-08-21 00:00:00|   Films|          1|      Look Both Ways|                         1|\n",
            "|   Argentina|          AR|2022-08-21 00:00:00|   Films|          2|           Day Shift|                         2|\n",
            "|   Argentina|          AR|2022-08-21 00:00:00|   Films|          3|Bank Robbers: The...|                         2|\n",
            "|   Argentina|          AR|2022-08-21 00:00:00|   Films|          4|   The Next 365 Days|                         1|\n",
            "|   Argentina|          AR|2022-08-21 00:00:00|   Films|          5|The Angry Birds M...|                         1|\n",
            "|   Argentina|          AR|2022-08-21 00:00:00|   Films|          6|       Purple Hearts|                         4|\n",
            "|   Argentina|          AR|2022-08-21 00:00:00|   Films|          7|      River Runs Red|                         1|\n",
            "|   Argentina|          AR|2022-08-21 00:00:00|   Films|          8|                1917|                         2|\n",
            "|   Argentina|          AR|2022-08-21 00:00:00|   Films|          9|  Code Name: Emperor|                         2|\n",
            "|   Argentina|          AR|2022-08-21 00:00:00|   Films|         10|           Royalteen|                         1|\n",
            "|   Argentina|          AR|2022-08-14 00:00:00|   Films|          1|Bank Robbers: The...|                         1|\n",
            "|   Argentina|          AR|2022-08-14 00:00:00|   Films|          2|       Purple Hearts|                         3|\n",
            "|   Argentina|          AR|2022-08-14 00:00:00|   Films|          3|                1917|                         1|\n",
            "|   Argentina|          AR|2022-08-14 00:00:00|   Films|          4|           Day Shift|                         1|\n",
            "|   Argentina|          AR|2022-08-14 00:00:00|   Films|          5|  Code Name: Emperor|                         1|\n",
            "|   Argentina|          AR|2022-08-14 00:00:00|   Films|          6|              Carter|                         2|\n",
            "|   Argentina|          AR|2022-08-14 00:00:00|   Films|          7|          Recurrence|                         3|\n",
            "|   Argentina|          AR|2022-08-14 00:00:00|   Films|          8|      Wedding Season|                         2|\n",
            "|   Argentina|          AR|2022-08-14 00:00:00|   Films|          9|        Dreamkatcher|                         1|\n",
            "|   Argentina|          AR|2022-08-14 00:00:00|   Films|         10|        The Gray Man|                         4|\n",
            "+------------+------------+-------------------+--------+-----------+--------------------+--------------------------+\n",
            "only showing top 20 rows\n",
            "\n"
          ]
        }
      ]
    },
    {
      "cell_type": "code",
      "source": [],
      "metadata": {
        "id": "hFSzgDIVMmPo"
      },
      "execution_count": null,
      "outputs": []
    },
    {
      "cell_type": "code",
      "source": [
        "### Replace any null values in 'season_name' in the TV DataFrame with the\n",
        "### corresponding 'show_name', display the table\n",
        "\n",
        "tvDF = tvDF.withColumn(\"season_title\", F.when(F.col(\"season_title\").isNull(),\n",
        "                  F.col(\"show_title\")).otherwise(F.col(\"season_title\")))\n",
        "\n",
        "#tvDF = tvDF.replace(\"null\", 0, \"season_title\")\n"
      ],
      "metadata": {
        "id": "53ApWu9fLARn"
      },
      "execution_count": null,
      "outputs": []
    },
    {
      "cell_type": "code",
      "source": [
        "tvDF.show()"
      ],
      "metadata": {
        "colab": {
          "base_uri": "https://localhost:8080/"
        },
        "id": "CIn-dCiKNQJt",
        "outputId": "00c547fe-f5d0-436e-f646-7e87acce860c"
      },
      "execution_count": null,
      "outputs": [
        {
          "output_type": "stream",
          "name": "stdout",
          "text": [
            "+------------+------------+-------------------+--------+-----------+--------------------+--------------------+--------------------------+\n",
            "|country_name|country_iso2|               week|category|weekly_rank|          show_title|        season_title|cumulative_weeks_in_top_10|\n",
            "+------------+------------+-------------------+--------+-----------+--------------------+--------------------+--------------------------+\n",
            "|   Argentina|          AR|2022-08-21 00:00:00|      TV|          1| Pasión de Gavilanes|Pasión de Gavilan...|                         5|\n",
            "|   Argentina|          AR|2022-08-21 00:00:00|      TV|          2|        Another Self|Another Self: Sea...|                         4|\n",
            "|   Argentina|          AR|2022-08-21 00:00:00|      TV|          3| Pasión de Gavilanes|Pasión de Gavilan...|                        58|\n",
            "|   Argentina|          AR|2022-08-21 00:00:00|      TV|          4|            Manifest|  Manifest: Season 1|                         6|\n",
            "|   Argentina|          AR|2022-08-21 00:00:00|      TV|          5|         The Sandman|The Sandman: Seas...|                         3|\n",
            "|   Argentina|          AR|2022-08-21 00:00:00|      TV|          6|Extraordinary Att...|Extraordinary Att...|                         2|\n",
            "|   Argentina|          AR|2022-08-21 00:00:00|      TV|          7|           High Heat| High Heat: Season 1|                         1|\n",
            "|   Argentina|          AR|2022-08-21 00:00:00|      TV|          8|            Manifest|  Manifest: Season 2|                         5|\n",
            "|   Argentina|          AR|2022-08-21 00:00:00|      TV|          9|            Manifest|  Manifest: Season 3|                         4|\n",
            "|   Argentina|          AR|2022-08-21 00:00:00|      TV|         10|   Never Have I Ever|Never Have I Ever...|                         2|\n",
            "|   Argentina|          AR|2022-08-14 00:00:00|      TV|          1| Pasión de Gavilanes|Pasión de Gavilan...|                         4|\n",
            "|   Argentina|          AR|2022-08-14 00:00:00|      TV|          2|        Another Self|Another Self: Sea...|                         3|\n",
            "|   Argentina|          AR|2022-08-14 00:00:00|      TV|          3|         The Sandman|The Sandman: Seas...|                         2|\n",
            "|   Argentina|          AR|2022-08-14 00:00:00|      TV|          4| Pasión de Gavilanes|Pasión de Gavilan...|                        57|\n",
            "|   Argentina|          AR|2022-08-14 00:00:00|      TV|          5|            Manifest|  Manifest: Season 1|                         5|\n",
            "|   Argentina|          AR|2022-08-14 00:00:00|      TV|          6|Extraordinary Att...|Extraordinary Att...|                         1|\n",
            "|   Argentina|          AR|2022-08-14 00:00:00|      TV|          7|                Alba|      Alba: Season 1|                         5|\n",
            "|   Argentina|          AR|2022-08-14 00:00:00|      TV|          8|            Manifest|  Manifest: Season 2|                         4|\n",
            "|   Argentina|          AR|2022-08-14 00:00:00|      TV|          9|            Manifest|  Manifest: Season 3|                         3|\n",
            "|   Argentina|          AR|2022-08-14 00:00:00|      TV|         10|   Never Have I Ever|Never Have I Ever...|                         1|\n",
            "+------------+------------+-------------------+--------+-----------+--------------------+--------------------+--------------------------+\n",
            "only showing top 20 rows\n",
            "\n"
          ]
        }
      ]
    },
    {
      "cell_type": "markdown",
      "source": [
        "Most popular films by country (10 Marks)\n",
        "\n",
        "1.   For each country in the data, find the highest rank each film reached, and the number of weeks it spent in the top 10. (4 marks)\n",
        "2.   Produce a DataFrame that contains the film which spent the most time in each country's top 10. (4 marks)\n",
        "3.   Produce a pie chart which shows how many countries the most popular films occurred in. (2 marks)\n"
      ],
      "metadata": {
        "id": "rAHZm5_9IzTn"
      }
    },
    {
      "cell_type": "code",
      "source": [
        "### Group the data by 'country_name' and 'show_title' and find the highest\n",
        "### weekly rank and total weeks spent in the top 10 for each film, display the\n",
        "### data\n",
        "# .groupBy, .agg, F.max, F.min, .sort, .show\n",
        "films_rank_DF = (filmsDF\n",
        "                .groupBy(\"country_name\", \"show_title\")\n",
        "                .agg(F.max(\"weekly_rank\").alias(\"max_weekly_rank\"),\n",
        "                  F.max(\"cumulative_weeks_in_top_10\").alias(\"max_cumulative\"))\n",
        "                .sort(F.desc('max_weekly_rank')))\n",
        "\n",
        "films_rank_DF.show()"
      ],
      "metadata": {
        "id": "8SGNNEcOKLhX",
        "colab": {
          "base_uri": "https://localhost:8080/"
        },
        "outputId": "2d9ce59e-afcb-417d-fb64-0be67efec5ce"
      },
      "execution_count": null,
      "outputs": [
        {
          "output_type": "stream",
          "name": "stdout",
          "text": [
            "+------------------+--------------------+---------------+--------------+\n",
            "|      country_name|          show_title|max_weekly_rank|max_cumulative|\n",
            "+------------------+--------------------+---------------+--------------+\n",
            "|             Qatar|  The Girl Next Door|             10|             2|\n",
            "|Dominican Republic|      Last Christmas|             10|             1|\n",
            "|           Romania|    The Skeleton Key|             10|             1|\n",
            "|            Canada|   Indecent Proposal|             10|             1|\n",
            "|           Réunion|     Office Invasion|             10|             1|\n",
            "|           Finland| Saving Private Ryan|             10|             1|\n",
            "|      Saudi Arabia|The Amazing Spide...|             10|             2|\n",
            "|         Hong Kong|    The Adam Project|             10|             5|\n",
            "|      Saudi Arabia|      The Ninth Gate|             10|             1|\n",
            "|           Ireland|        Man of Steel|             10|             2|\n",
            "|      Saudi Arabia|Fistful of Vengeance|             10|             2|\n",
            "|            Israel|       Choose or Die|             10|             2|\n",
            "|          Slovakia|    The Adam Project|             10|             8|\n",
            "|         Mauritius|     Army of Thieves|             10|             5|\n",
            "|          Slovakia|The Mitchells vs....|             10|             1|\n",
            "|       Netherlands|     The Equalizer 2|             10|             2|\n",
            "|      South Africa|            Geostorm|             10|             2|\n",
            "|       New Zealand|               Focus|             10|             1|\n",
            "|          Thailand|              Zodiac|             10|             2|\n",
            "|            Norway|          Georgetown|             10|             2|\n",
            "+------------------+--------------------+---------------+--------------+\n",
            "only showing top 20 rows\n",
            "\n"
          ]
        }
      ]
    },
    {
      "cell_type": "markdown",
      "source": [
        "Produce a DataFrame which shows, for each country, the most popular film by the number of weeks it spent in the top 10, how many weeks that film was in the top 10, and the highest weekly rank it reached."
      ],
      "metadata": {
        "id": "dwmCkbhhWFdG"
      }
    },
    {
      "cell_type": "code",
      "source": [
        "### Find the film that spent the most time in each country's top 10 list.\n",
        "### Produce and display a table showing that information, along with the number\n",
        "### of weeks spent in the top 10, and the highest weekly ranking\n",
        "# .groupBy, .sort, .desc, .agg, F.first, .show\n",
        "from pyspark.sql import Column, Window\n",
        "\n",
        "## Grouping by country and show title, finding the max cumulative weeks and the max weekly rank\n",
        "max_weeks_df = filmsDF.groupBy(\"country_name\", \"show_title\") \\\n",
        "                     .agg(F.max(\"cumulative_weeks_in_top_10\").alias(\"max_weeks\"),\n",
        "                          F.max(\"weekly_rank\").alias(\"max_rank\"))\n",
        "\n",
        "## Ranking the films by their max weeks within each country\n",
        "rank_df = max_weeks_df.withColumn(\"rank\", F.row_number()\n",
        "        .over(Window.partitionBy(\"country_name\").orderBy(F.desc(\"max_weeks\"))))\n",
        "\n",
        "# show the result with additional columns for weeks and rank\n",
        "results_df = rank_df.select(\"country_name\", \"show_title\",\n",
        "                            \"max_weeks\", \"max_rank\") \\\n",
        "                     .filter(\"rank = 1\") \\\n",
        "                     .orderBy(\"country_name\")\n",
        "\n",
        "results_df.show()\n"
      ],
      "metadata": {
        "id": "KTkWmAhdWs4Y",
        "colab": {
          "base_uri": "https://localhost:8080/"
        },
        "outputId": "5cd983d4-6658-4a48-db56-b7bbf5524a21"
      },
      "execution_count": null,
      "outputs": [
        {
          "output_type": "stream",
          "name": "stdout",
          "text": [
            "+------------------+--------------------+---------+--------+\n",
            "|      country_name|          show_title|max_weeks|max_rank|\n",
            "+------------------+--------------------+---------+--------+\n",
            "|         Argentina|  Sonic the Hedgehog|        7|       9|\n",
            "|         Australia| Back to the Outback|        8|      10|\n",
            "|           Austria|Harry Potter and ...|        9|      10|\n",
            "|           Bahamas|  A Madea Homecoming|        9|      10|\n",
            "|           Bahrain|          Red Notice|        8|       9|\n",
            "|        Bangladesh|        Sooryavanshi|       21|      10|\n",
            "|           Belgium|    The Adam Project|        8|      10|\n",
            "|           Bolivia|               Shrek|       18|      10|\n",
            "|            Brazil|Hotel Transylvani...|        7|      10|\n",
            "|          Bulgaria|          Red Notice|       15|      10|\n",
            "|            Canada|How the Grinch St...|        7|       9|\n",
            "|             Chile|  Sonic the Hedgehog|        8|      10|\n",
            "|          Colombia|          Red Notice|       12|      10|\n",
            "|        Costa Rica|  Sonic the Hedgehog|       10|      10|\n",
            "|           Croatia|          Red Notice|       14|      10|\n",
            "|            Cyprus|          Red Notice|       12|      10|\n",
            "|    Czech Republic|The Secret Life o...|       14|      10|\n",
            "|           Denmark|          Red Notice|       12|      10|\n",
            "|Dominican Republic|          Red Notice|        8|      10|\n",
            "|           Ecuador|          Red Notice|        9|      10|\n",
            "+------------------+--------------------+---------+--------+\n",
            "only showing top 20 rows\n",
            "\n"
          ]
        }
      ]
    },
    {
      "cell_type": "markdown",
      "source": [
        "Group the DataFrame by `season_title` and count the number of countries where each season is the most popular. Convert the DataFrame to Pandas, and use the `DataFrame.plot.pie` method to produce a pie chart of the most popular shows."
      ],
      "metadata": {
        "id": "k-2OKNgAgb3j"
      }
    },
    {
      "cell_type": "code",
      "source": [
        "### Convert the DataFrame to a Pandas DataFrame, and display it as a pie chart\n",
        "# .toPandas, .plot.pie\n",
        "import matplotlib.pyplot as plt\n",
        "\n",
        "most_populr_show = results_df.groupBy('show_title').agg(F.count('country_name')\n",
        "          .alias('number_of_countries')).orderBy(F.desc('number_of_countries'))\n",
        "most_populr_show.show()\n",
        "\n",
        "\n",
        "\n",
        "most_populr_show_df = most_populr_show.toPandas()\n",
        "\n",
        "# Group movies with less than 60 minutes watched\n",
        "most_populr_show_df.loc[most_populr_show_df['number_of_countries'] <= 1,\n",
        "                        'show_title'] = 'Other'\n",
        "pie_df = most_populr_show_df.groupby('show_title').sum()\n",
        "\n",
        "# Separate movies with more than 60 minutes watched\n",
        "pie_df.loc[pie_df['number_of_countries'] >= 60, 'explode'] = 0.1\n",
        "\n",
        "# Plot the pie chart\n",
        "\n",
        "explode=[0,0,0,0,0.05,0,0,0]\n",
        "\n",
        "colors = ['#c2c2f0','#ffb3e6', '#c2c2f0','#ffb3e6','#ff6666', '#ffcc99',\n",
        "          '#99ff99', '#66b3ff']\n",
        "plt.pie(pie_df['number_of_countries'], labels=pie_df.index, autopct='%1.1f%%',\n",
        "        startangle=160, explode=explode, colors=colors)\n",
        "\n",
        "plt.axis('equal')\n",
        "plt.title('Netflix Movies Watched', style='italic', fontsize=22)\n",
        "#plt.tight_layout()\n",
        "plt.show()\n"
      ],
      "metadata": {
        "id": "VeaR2m8HenIY",
        "colab": {
          "base_uri": "https://localhost:8080/",
          "height": 908
        },
        "outputId": "9882eb3f-3889-49d0-cfe2-993ca9537970"
      },
      "execution_count": null,
      "outputs": [
        {
          "output_type": "stream",
          "name": "stdout",
          "text": [
            "+--------------------+-------------------+\n",
            "|          show_title|number_of_countries|\n",
            "+--------------------+-------------------+\n",
            "|          Red Notice|                 49|\n",
            "|  Sonic the Hedgehog|                  8|\n",
            "|Hotel Transylvani...|                  5|\n",
            "|        Sooryavanshi|                  5|\n",
            "|    The Adam Project|                  3|\n",
            "|       Don't Look Up|                  2|\n",
            "|Harry Potter and ...|                  2|\n",
            "|Upin & Ipin: The ...|                  1|\n",
            "|The Man from Toronto|                  1|\n",
            "|How I Fell in Lov...|                  1|\n",
            "|               Shrek|                  1|\n",
            "| Gangubai Kathiawadi|                  1|\n",
            "|              Hustle|                  1|\n",
            "|         Asakusa Kid|                  1|\n",
            "|The Secret Life o...|                  1|\n",
            "|   Night in Paradise|                  1|\n",
            "|  A Madea Homecoming|                  1|\n",
            "|The Humans and th...|                  1|\n",
            "|        The Takedown|                  1|\n",
            "|         Man in Love|                  1|\n",
            "+--------------------+-------------------+\n",
            "only showing top 20 rows\n",
            "\n"
          ]
        },
        {
          "output_type": "display_data",
          "data": {
            "text/plain": [
              "<Figure size 640x480 with 1 Axes>"
            ],
            "image/png": "[encoded data removed]"
          },
          "metadata": {}
        }
      ]
    },
    {
      "cell_type": "code",
      "source": [],
      "metadata": {
        "id": "CpE3m7p8ptKO"
      },
      "execution_count": null,
      "outputs": []
    },
    {
      "cell_type": "code",
      "source": [],
      "metadata": {
        "id": "d_I_iuRrPKCK"
      },
      "execution_count": null,
      "outputs": []
    },
    {
      "cell_type": "markdown",
      "source": [
        "# Exercise 3 - Most popular shows by country (10 Marks)\n",
        "\n",
        "\n",
        "1.   Calculate the number of weeks each TV show spent in each country's top 10, across all seasons, such that you don't double count a show when two or more seasons appear in one week. (5 marks)\n",
        "2.   Produce a DataFrame that contains the show which spent the most time in each country's top 10. (5 marks)"
      ],
      "metadata": {
        "id": "_YOKr4khadrB"
      }
    },
    {
      "cell_type": "code",
      "source": [
        "### Group the data by 'country_name' and 'show_title' and count the number of\n",
        "### weeks each show appears in each country's top 10 lists, as well as the\n",
        "### highest weekly ranking. Display the data.\n",
        "# .groupBy, .agg, F.count_distinct, F.min, .sort, .show\n",
        "\n",
        "results = (tvDF\n",
        "          .groupBy('country_name', 'show_title')\n",
        "          .agg(F.countDistinct('cumulative_weeks_in_top_10')\n",
        "          .alias('weeks_in_top_10'),\n",
        "               F.min('weekly_rank').alias('highest_weekly_rank'))\n",
        "          .sort('country_name', F.desc('weeks_in_top_10'))\n",
        "         )\n",
        "\n",
        "results.show()\n",
        "\n"
      ],
      "metadata": {
        "id": "T4KuEbwgbJar",
        "colab": {
          "base_uri": "https://localhost:8080/"
        },
        "outputId": "c6c95e62-f96a-4823-a70b-cfe5612e1259"
      },
      "execution_count": null,
      "outputs": [
        {
          "output_type": "stream",
          "name": "stdout",
          "text": [
            "+------------+--------------------+---------------+-------------------+\n",
            "|country_name|          show_title|weeks_in_top_10|highest_weekly_rank|\n",
            "+------------+--------------------+---------------+-------------------+\n",
            "|   Argentina| Pasión de Gavilanes|             58|                  1|\n",
            "|   Argentina|Yo soy Betty, la fea|             31|                  6|\n",
            "|   Argentina|Café con aroma de...|             30|                  1|\n",
            "|   Argentina|   The Queen of Flow|             25|                  1|\n",
            "|   Argentina|         Rebelde Way|             12|                  7|\n",
            "|   Argentina|                Maid|             11|                  1|\n",
            "|   Argentina|          Squid Game|             11|                  1|\n",
            "|   Argentina|     Stranger Things|             10|                  1|\n",
            "|   Argentina|Newly Rich, Newly...|             10|                  1|\n",
            "|   Argentina|   Pedro el escamoso|              9|                  5|\n",
            "|   Argentina|         Money Heist|              9|                  1|\n",
            "|   Argentina|The Snitch Cartel...|              9|                  1|\n",
            "|   Argentina|                 You|              7|                  1|\n",
            "|   Argentina|      Inventing Anna|              6|                  2|\n",
            "|   Argentina|         The Kingdom|              6|                  1|\n",
            "|   Argentina|            Manifest|              6|                  2|\n",
            "|   Argentina|  All of Us Are Dead|              6|                  2|\n",
            "|   Argentina|    The Marked Heart|              6|                  1|\n",
            "|   Argentina|              Okupas|              6|                  1|\n",
            "|   Argentina|Wrong Side of the...|              6|                  2|\n",
            "+------------+--------------------+---------------+-------------------+\n",
            "only showing top 20 rows\n",
            "\n"
          ]
        }
      ]
    },
    {
      "cell_type": "code",
      "source": [
        "### Find the show that spent the most time in each country's top 10 list.\n",
        "### Produce and display a table showing that information, along with the number\n",
        "### of weeks spent in the top 10, and the highest weekly ranking\n",
        "# .groupBy, .sort, .desc, .agg, F.first, .show\n",
        "\n",
        "# grouping data by country and show, get the max cumulative_weeks_in_top_10 and its corresponding show_title\n",
        "max_weeks_dframe = tvDF.groupBy('country_name', 'show_title') \\\n",
        "                    .agg(F.max('cumulative_weeks_in_top_10').alias('max_weeks'))\n",
        "\n",
        "# joining back to the original dataframe to get the highest weekly ranking\n",
        "top_show = tvDF.join(max_weeks_dframe, ['country_name', 'show_title']) \\\n",
        "                   .filter(tvDF.cumulative_weeks_in_top_10 == max_weeks_dframe.max_weeks) \\\n",
        "                   .orderBy(['country_name', F.desc('max_weeks')]) \\\n",
        "                   .groupBy('country_name') \\\n",
        "                   .agg(F.first('show_title').alias('show_title'),\n",
        "                        F.max('cumulative_weeks_in_top_10').alias('max_weeks')\n",
        "                        )\n",
        "\n",
        "top_show.show()\n",
        "\n",
        "\n"
      ],
      "metadata": {
        "id": "kenFjaaR9pLp",
        "colab": {
          "base_uri": "https://localhost:8080/"
        },
        "outputId": "27694a86-44e1-4c60-ee04-63e19fe7185f"
      },
      "execution_count": null,
      "outputs": [
        {
          "output_type": "stream",
          "name": "stdout",
          "text": [
            "+------------------+--------------------+---------+\n",
            "|      country_name|          show_title|max_weeks|\n",
            "+------------------+--------------------+---------+\n",
            "|         Argentina| Pasión de Gavilanes|       58|\n",
            "|         Australia|     Stranger Things|       13|\n",
            "|           Austria|     The Good Doctor|       14|\n",
            "|           Bahamas|SpongeBob SquareP...|       33|\n",
            "|           Bahrain|          Squid Game|       16|\n",
            "|        Bangladesh|          Squid Game|       22|\n",
            "|           Belgium|     Stranger Things|       13|\n",
            "|           Bolivia| Pasión de Gavilanes|       57|\n",
            "|            Brazil|         Chiquititas|       51|\n",
            "|          Bulgaria|          Squid Game|       16|\n",
            "|            Canada|               Ozark|       14|\n",
            "|             Chile|Yo soy Betty, la fea|       54|\n",
            "|          Colombia|Pablo Escobar, el...|       60|\n",
            "|        Costa Rica| Pasión de Gavilanes|       60|\n",
            "|           Croatia|          Squid Game|       15|\n",
            "|            Cyprus|     The Good Doctor|       16|\n",
            "|    Czech Republic|         Money Heist|       20|\n",
            "|           Denmark|     Stranger Things|       13|\n",
            "|Dominican Republic| Pasión de Gavilanes|       60|\n",
            "|           Ecuador| Pasión de Gavilanes|       60|\n",
            "+------------------+--------------------+---------+\n",
            "only showing top 20 rows\n",
            "\n"
          ]
        }
      ]
    }
  ]
}